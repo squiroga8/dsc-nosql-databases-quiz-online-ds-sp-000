{
 "cells": [
  {
   "attachments": {},
   "cell_type": "markdown",
   "metadata": {},
   "source": [
    "# NoSQL Databases - Quiz\n",
    "\n",
    "\n",
    "## Introduction\n",
    "\n",
    "In this lesson, we'll try our luck with some common open-ended interview questions about NoSQL databases.\n",
    "\n",
    "\n",
    "## Question 1\n",
    "\n",
    "What is the difference between a NoSQL and a SQL database?  Which is better?\n",
    "\n",
    "Write your answer below this line: \n",
    "_______________________________________________________________________________________________________________________________\n",
    "_A NoSQL database stores data that doesn't work well in a tabular or relational format (like a SQL database, which stores relational data in a table format). Some database stores, if stored in a SQL database, would contain many redundancies and wasted space and would be better stored in a NoSQL database. Neither is necessarily better, but it depends on the kind of data to be stored. The four kinds of NoSQL databases include Document Stores, Key-Value Stores, Column Stores, and Graph Databases._\n",
    "\n",
    "\n",
    "\n",
    "\n",
    "\n",
    "\n",
    "## Question 2\n",
    "\n",
    "Describe a situation where a NoSQL database might be a better choice than a relational database, and explain your reasoning.\n",
    "\n",
    "Write your answer below this line: \n",
    "_______________________________________________________________________________________________________________________________\n",
    "\n",
    "_There are many situations in which a NoSQL database might be a better choice over a relational database, including situations where more flexibility and unique variables are needed and where you don't know what shape the data will ultimately take. For instance, an example of storying chat logs between a customer and customer service would be better suited for document stores (NoSQL) because this data comes with metadata and can have inconsistent variables and size of data stored within those variables. Having the metadata stored in a table would result in a lot of redundancies and wasted space for storing metadata, dramatically varying data values, extremely long run times for SQL queries._\n",
    "\n",
    "\n",
    "\n",
    "\n",
    "## Question 3\n",
    "\n",
    "How does MongoDB work? How is it different from a relational database?\n",
    "\n",
    "Write your answer below this line: \n",
    "_______________________________________________________________________________________________________________________________\n",
    "\n",
    "_MongoDB is one of the most popular NoSQL variants, and it works as a Document Store Database, which is a kind of database that stores records as unique documents in a database. There is a small boilerplate and pymongo library which can be used to connect to the MongoDB Database. Records (or Documents) are inserted by passing in data as Python dictionaries using the insert_one method or the insert_many method. Groups of documents can be created, called Collections, and you can write queries by using the collection object's 'find()' method. Similarly, you can filter the queries by passing in the key-value pairs to filter by and by using logic on the filters through modifiers._\n",
    "\n",
    "\n",
    "\n",
    "\n",
    "## Question 4\n",
    "\n",
    "What is fault tolerance, and what does it have to do with Resilient Distributed Datasets?\n",
    "\n",
    "Write your answer below this line: \n",
    "_______________________________________________________________________________________________________________________________\n",
    "\n",
    "_An RDD is a collection of an arbitrary number of server clusters that share a full dataset distributed between them, and it is considered the backbone behind Big Data. Relational Databases are stored on a single server, meaning that when or if the server is down, nothing can be done using that database until the server is back up. However, platforms such as Hadoop and Spark, which support RDD, can contain any number of servers in their cluster, but if a few servers are down we might be retrieving inaccurate information from our queries because we mistakingly think that we've queried the entire dataset - this is the idea behind ensuring that an RDD is Fault Tolerant. RDDs deal with this by chopping up the data into different labeled blocks, and then storing multiple different backups of each block across all of the different server clusters. For Big Data in particular, having a distributed architecture like this provides massive speed-up time to query times by essentially distributing the workload across multiple servers. In this way, RDDs use redundancy to ensure that the data is Fault Tolerant._\n",
    "\n",
    "\n",
    "\n",
    "\n",
    "\n",
    "## Question 5\n",
    "\n",
    "What is MapReduce? How is it related to Hadoop?\n",
    "\n",
    "Write your answer below this line: \n",
    "_______________________________________________________________________________________________________________________________\n",
    "\n",
    "_With an RDD like Hadoop, instead of running a query in a single, massive relational database, thereby running the query on a single machine, a small server is placed in each  location to keep track of all that location's data and transactions. When we run a query, our distributed system will ask each location's server to get the information we need, totaling it up simultaneously. This is the idea behind MapReduce - where each server runs some query or function at the same time, then combines the results - giving us significant speed-ups when working with truly massive datasets in a distributed manner. The first step - asking each server to run the query at the same time - is considered the \"Map\" step. The second step - combining the results from each server into a single aggregate - this is known as the \"Reduce\" step._\n",
    "\n",
    "\n",
    "\n",
    "## Summary\n",
    "\n",
    "\n",
    "In this lesson, we reviewed some common NoSQL interview questions. "
   ]
  },
  {
   "cell_type": "code",
   "execution_count": null,
   "metadata": {},
   "outputs": [],
   "source": []
  }
 ],
 "metadata": {
  "kernelspec": {
   "display_name": "Python 3",
   "language": "python",
   "name": "python3"
  },
  "language_info": {
   "codemirror_mode": {
    "name": "ipython",
    "version": 3
   },
   "file_extension": ".py",
   "mimetype": "text/x-python",
   "name": "python",
   "nbconvert_exporter": "python",
   "pygments_lexer": "ipython3",
   "version": "3.6.6"
  },
  "toc": {
   "base_numbering": 1,
   "nav_menu": {},
   "number_sections": true,
   "sideBar": true,
   "skip_h1_title": false,
   "title_cell": "Table of Contents",
   "title_sidebar": "Contents",
   "toc_cell": false,
   "toc_position": {},
   "toc_section_display": true,
   "toc_window_display": false
  },
  "varInspector": {
   "cols": {
    "lenName": 16,
    "lenType": 16,
    "lenVar": 40
   },
   "kernels_config": {
    "python": {
     "delete_cmd_postfix": "",
     "delete_cmd_prefix": "del ",
     "library": "var_list.py",
     "varRefreshCmd": "print(var_dic_list())"
    },
    "r": {
     "delete_cmd_postfix": ") ",
     "delete_cmd_prefix": "rm(",
     "library": "var_list.r",
     "varRefreshCmd": "cat(var_dic_list()) "
    }
   },
   "types_to_exclude": [
    "module",
    "function",
    "builtin_function_or_method",
    "instance",
    "_Feature"
   ],
   "window_display": false
  }
 },
 "nbformat": 4,
 "nbformat_minor": 2
}
